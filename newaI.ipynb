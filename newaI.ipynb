{
 "cells": [
  {
   "cell_type": "code",
   "execution_count": 6,
   "id": "b4918287-9aeb-4353-96dc-8914af200a3c",
   "metadata": {},
   "outputs": [],
   "source": [
    "import PyPDF2\n",
    "from transformers import pipeline\n",
    "def read_pdf(file_path):\n",
    "    pdf_reader = PyPDF2.PdfReader(file_path)\n",
    "    text = \"\"\n",
    "    for page in pdf_reader.pages:\n",
    "        text += page.extract_text()\n",
    "    return text\n",
    "\n",
    "def split_into_chunks(text, max_length=400): \n",
    "    sentences = text.split('.')\n",
    "    chunks = []\n",
    "    chunk = \"\"    \n",
    "    for sentence in sentences:\n",
    "        if len(chunk) + len(sentence) > max_length:\n",
    "            chunks.append(chunk)\n",
    "            chunk = sentence + '. '\n",
    "        else:\n",
    "            chunk += sentence + '. '\n",
    "    \n",
    "    # Add the last chunk if it exists\n",
    "    if chunk:\n",
    "        chunks.append(chunk)\n",
    "    \n",
    "    return chunks\n",
    "\n"
   ]
  },
  {
   "cell_type": "code",
   "execution_count": 7,
   "id": "5e43cea7-0958-481e-9670-c9f88e042b22",
   "metadata": {},
   "outputs": [],
   "source": [
    "qa_pipeline = pipeline(\"question-answering\", model=\"distilbert-base-uncased-distilled-squad\")\n",
    "\n",
    "def get_best_answer(chunks, question):\n",
    "    best_answer = \"\"\n",
    "    best_score = 0\n",
    "\n",
    "    for chunk in chunks:\n",
    "        result = qa_pipeline(question=question, context=chunk)\n",
    "        if result['score'] > best_score:\n",
    "            best_score = result['score']\n",
    "            best_answer = result['answer']\n",
    "\n",
    "    return best_answer\n"
   ]
  },
  {
   "cell_type": "code",
   "execution_count": 8,
   "id": "250168dc-766c-4da7-894a-b1cad10420ad",
   "metadata": {},
   "outputs": [
    {
     "name": "stdout",
     "output_type": "stream",
     "text": [
      "Answer: THE ANTS AND THE PEN    IDRIES SHAH\n"
     ]
    }
   ],
   "source": [
    "def answer_from_pdf(pdf_file_path, question):\n",
    "    # Step 1: Read the PDF\n",
    "    page_text = read_pdf(pdf_file_path)\n",
    "    \n",
    "    chunks = split_into_chunks(page_text, max_length=400)  \n",
    "    answer = get_best_answer(chunks, question)\n",
    "    \n",
    "    return answer\n",
    "\n",
    "\n",
    "pdf_path = \"ant.pdf\"  \n",
    "question = \"what is the title of the story\" \n",
    "\n",
    "\n",
    "answer = answer_from_pdf(pdf_path, question)\n",
    "print(f\"Answer: {answer}\")\n"
   ]
  },
  {
   "cell_type": "code",
   "execution_count": 5,
   "id": "5a207475-ea6e-4b63-9811-41df2373abe2",
   "metadata": {},
   "outputs": [
    {
     "name": "stdout",
     "output_type": "stream",
     "text": [
      " \n",
      "Internal  The Mysterious Island  \n",
      "On a quiet afternoon, Emma and her friends stumbled upon an old map in her grandfather’s \n",
      "attic. The map was torn and faded, but one thing stood out clearly —a small, unmarked island \n",
      "in the middle of the ocean. Excited by the discovery, the friends made plan s to visit the \n",
      "island, convinced there was a mystery waiting to be solved.  \n",
      "A few weeks later, they set sail on a small boat, their hearts racing with excitement. After \n",
      "days of travel, the island came into view. It was shrouded in mist, with tall trees lining the \n",
      "shore and strange sounds echoing through the air. As they docked, th ey noticed something \n",
      "unusual: there were no signs of life, no animals, no people —only silence.  \n",
      "The group ventured deeper into the forest, their path lit only by the dappled sunlight filtering \n",
      "through the trees. Suddenly, Emma tripped over something hard. As she brushed away the \n",
      "leaves, she uncovered a rusty old chest. Her friends helped her pry it o pen, revealing ancient \n",
      "scrolls and an odd, glowing stone.  \n",
      "As they examined the scrolls, they realized they were written in an unknown language. But \n",
      "the stone —it felt warm, almost alive. When Emma picked it up, a strange energy coursed \n",
      "through her. In an instant, the island around them changed. The trees turned go lden, the sky \n",
      "brightened, and creatures they’d never seen before appeared, watching them with curious \n",
      "eyes.  \n",
      "They soon realized the island wasn’t deserted —it was enchanted. The glowing stone was the \n",
      "key to unlocking its hidden magic. But as they explored further, they also discovered \n",
      "warnings in the scrolls about a powerful force guarding the island’s secrets.  \n",
      "With time running out, they knew they had to make a choice: keep the stone and live with the \n",
      "island’s mysterious wonders, or return it to its rightful place to maintain the balance of the \n",
      "enchanted land. Emma, feeling the weight of responsibility, placed t he stone back in the \n",
      "chest.  \n",
      "As they left the island, the mist returned, and everything returned to normal. They never \n",
      "spoke of the island again, but they knew they had uncovered something truly magical —a \n",
      "secret that would remain hidden forever.  \n",
      " \n"
     ]
    }
   ],
   "source": [
    "pdf_text = read_pdf(\"elle.pdf\")  \n",
    "print(pdf_text)"
   ]
  },
  {
   "cell_type": "code",
   "execution_count": null,
   "id": "7f00330a-d69b-4096-b34b-0768a8b95c2e",
   "metadata": {},
   "outputs": [],
   "source": []
  }
 ],
 "metadata": {
  "kernelspec": {
   "display_name": "Python 3 (ipykernel)",
   "language": "python",
   "name": "python3"
  },
  "language_info": {
   "codemirror_mode": {
    "name": "ipython",
    "version": 3
   },
   "file_extension": ".py",
   "mimetype": "text/x-python",
   "name": "python",
   "nbconvert_exporter": "python",
   "pygments_lexer": "ipython3",
   "version": "3.11.0"
  }
 },
 "nbformat": 4,
 "nbformat_minor": 5
}
